{
  "cells": [
    {
      "cell_type": "markdown",
      "metadata": {
        "id": "9wBNcnGjP2Jd"
      },
      "source": [
        "**Importing Skin Cancer Data**\n",
        "\n",
        "To do: Take necessary actions to read the data\n",
        "Importing all the important libraries"
      ]
    },
    {
      "cell_type": "code",
      "execution_count": 1,
      "metadata": {
        "id": "WVeZr0Kc7-Nx"
      },
      "outputs": [],
      "source": [
        "import pathlib\n",
        "import tensorflow as tf\n",
        "import matplotlib.pyplot as plt\n",
        "import numpy as np\n",
        "import pandas as pd\n",
        "import os\n",
        "import PIL\n",
        "from tensorflow import keras\n",
        "from tensorflow.keras import layers\n",
        "from tensorflow.keras.models import Sequential\n",
        "\n",
        "\n"
      ]
    },
    {
      "cell_type": "code",
      "execution_count": 2,
      "metadata": {
        "colab": {
          "base_uri": "https://localhost:8080/"
        },
        "id": "6f7JWha88OCU",
        "outputId": "5fc95c0d-794d-465f-cbf4-a65ff2a5d591"
      },
      "outputs": [
        {
          "output_type": "stream",
          "name": "stdout",
          "text": [
            "Mounted at /content/gdrive\n"
          ]
        }
      ],
      "source": [
        "from google.colab import drive\n",
        "drive.mount('/content/gdrive')"
      ]
    },
    {
      "cell_type": "code",
      "execution_count": 3,
      "metadata": {
        "id": "6KlxZxMs8SWJ"
      },
      "outputs": [],
      "source": [
        "# Defining the path for train and test images\n",
        "## Todo: Update the paths of the train and test dataset\n",
        "data_dir_train = pathlib.Path(\"/content/gdrive/MyDrive/Colab Notebooks/Skin cancer ISIC The International Skin Imaging Collaboration/Train\")\n",
        "data_dir_test = pathlib.Path('/content/gdrive/MyDrive/Colab Notebooks/Skin cancer ISIC The International Skin Imaging Collaboration/Test')"
      ]
    },
    {
      "cell_type": "code",
      "execution_count": 4,
      "metadata": {
        "colab": {
          "base_uri": "https://localhost:8080/"
        },
        "id": "BM4PAjvFMXT9",
        "outputId": "a23dc438-fb23-4348-dc0e-43d73c7f55cb"
      },
      "outputs": [
        {
          "output_type": "stream",
          "name": "stdout",
          "text": [
            "2239\n",
            "128\n"
          ]
        }
      ],
      "source": [
        "image_count_train = len(list(data_dir_train.glob('*/*.jpg')))\n",
        "print(image_count_train)\n",
        "image_count_test = len(list(data_dir_test.glob('*/*.jpg')))\n",
        "print(image_count_test)"
      ]
    },
    {
      "cell_type": "markdown",
      "metadata": {
        "id": "l4YgI4BhQCZK"
      },
      "source": [
        "**Load using keras.preprocessing**\n",
        "\n",
        "Let's load these images off disk using the helpful image_dataset_from_directory utility.\n",
        "\n",
        "**Create a dataset**\n",
        "\n",
        "Define some parameters for the loader:"
      ]
    },
    {
      "cell_type": "code",
      "execution_count": 5,
      "metadata": {
        "id": "3FdkwoWZMZqi"
      },
      "outputs": [],
      "source": [
        "batch_size = 32\n",
        "img_height = 180\n",
        "img_width = 180"
      ]
    },
    {
      "cell_type": "code",
      "execution_count": 6,
      "metadata": {
        "colab": {
          "base_uri": "https://localhost:8080/"
        },
        "id": "7gLbb4LpJWp0",
        "outputId": "4c3880bc-d07d-467d-8d82-3177cd8fa92e"
      },
      "outputs": [
        {
          "output_type": "stream",
          "name": "stdout",
          "text": [
            "Found 11239 files belonging to 9 classes.\n",
            "Using 8992 files for training.\n"
          ]
        }
      ],
      "source": [
        "train_ds = tf.keras.utils.image_dataset_from_directory(\n",
        "  data_dir_train,\n",
        "  validation_split=0.2,\n",
        "  subset=\"training\",\n",
        "  seed=123,\n",
        "  image_size=(img_height, img_width),\n",
        "  batch_size=batch_size)"
      ]
    },
    {
      "cell_type": "code",
      "execution_count": 7,
      "metadata": {
        "colab": {
          "base_uri": "https://localhost:8080/"
        },
        "id": "Zop6e-HyL8Mw",
        "outputId": "a89d73bc-bf5c-44eb-e243-e5e7a6e17eb1"
      },
      "outputs": [
        {
          "output_type": "stream",
          "name": "stdout",
          "text": [
            "Found 128 files belonging to 9 classes.\n",
            "Using 25 files for validation.\n"
          ]
        }
      ],
      "source": [
        "val_ds = tf.keras.utils.image_dataset_from_directory(\n",
        "  data_dir_test,\n",
        "  validation_split=0.2,\n",
        "  subset=\"validation\",\n",
        "  seed=123,\n",
        "  image_size=(img_height, img_width),\n",
        "  batch_size=batch_size)"
      ]
    },
    {
      "cell_type": "code",
      "execution_count": 8,
      "metadata": {
        "colab": {
          "base_uri": "https://localhost:8080/"
        },
        "id": "x8WXI2vrMCGF",
        "outputId": "594b3ec3-a2e4-45bc-8bad-6740d9a5a4dd"
      },
      "outputs": [
        {
          "output_type": "stream",
          "name": "stdout",
          "text": [
            "['actinic keratosis', 'basal cell carcinoma', 'dermatofibroma', 'melanoma', 'nevus', 'pigmented benign keratosis', 'seborrheic keratosis', 'squamous cell carcinoma', 'vascular lesion']\n"
          ]
        }
      ],
      "source": [
        "class_names = train_ds.class_names\n",
        "print(class_names)"
      ]
    },
    {
      "cell_type": "markdown",
      "metadata": {
        "id": "uJ8ogQAmMLbh"
      },
      "source": [
        "**Visualize the data**\n",
        "\n",
        "Todo, create a code to visualize one instance of all the nine classes present in the dataset"
      ]
    },
    {
      "cell_type": "code",
      "execution_count": 9,
      "metadata": {
        "id": "LJ_xwCrVMHa9"
      },
      "outputs": [],
      "source": [
        "import matplotlib.pyplot as plt\n",
        "from tensorflow.keras.preprocessing import image\n"
      ]
    },
    {
      "cell_type": "code",
      "execution_count": 10,
      "metadata": {
        "id": "DqzLNtJCeIxC"
      },
      "outputs": [],
      "source": [
        "img = image.load_img('/content/gdrive/MyDrive/Colab Notebooks/Skin cancer ISIC The International Skin Imaging Collaboration/Train/melanoma/ISIC_0000139.jpg')"
      ]
    },
    {
      "cell_type": "code",
      "execution_count": 11,
      "metadata": {
        "colab": {
          "base_uri": "https://localhost:8080/",
          "height": 286
        },
        "id": "N85HG6UeePSs",
        "outputId": "2c2b8ec0-2b22-4647-f742-427b26c5ad72"
      },
      "outputs": [
        {
          "output_type": "execute_result",
          "data": {
            "text/plain": [
              "<matplotlib.image.AxesImage at 0x7fde77eefb50>"
            ]
          },
          "metadata": {},
          "execution_count": 11
        },
        {
          "output_type": "display_data",
          "data": {
            "text/plain": [
              "<Figure size 432x288 with 1 Axes>"
            ],
            "image/png": "[encoded data removed]"
          },
          "metadata": {
            "needs_background": "light"
          }
        }
      ],
      "source": [
        "plt.imshow(img)"
      ]
    },
    {
      "cell_type": "code",
      "execution_count": 12,
      "metadata": {
        "colab": {
          "base_uri": "https://localhost:8080/"
        },
        "id": "k6R9Oj_OP-th",
        "outputId": "22f52dab-7adb-42c9-ede9-edc57fd4400f"
      },
      "outputs": [
        {
          "output_type": "execute_result",
          "data": {
            "text/plain": [
              "array([[[ 95,  72,  80],\n",
              "        [ 95,  72,  80],\n",
              "        [ 96,  73,  81],\n",
              "        ...,\n",
              "        [188, 152, 156],\n",
              "        [188, 152, 156],\n",
              "        [188, 151, 158]],\n",
              "\n",
              "       [[ 95,  72,  80],\n",
              "        [ 96,  73,  81],\n",
              "        [ 99,  74,  80],\n",
              "        ...,\n",
              "        [188, 152, 156],\n",
              "        [188, 152, 156],\n",
              "        [188, 152, 156]],\n",
              "\n",
              "       [[ 98,  73,  79],\n",
              "        [ 99,  74,  80],\n",
              "        [100,  75,  81],\n",
              "        ...,\n",
              "        [191, 152, 157],\n",
              "        [190, 151, 156],\n",
              "        [189, 150, 155]],\n",
              "\n",
              "       ...,\n",
              "\n",
              "       [[146, 119, 134],\n",
              "        [146, 119, 134],\n",
              "        [145, 121, 137],\n",
              "        ...,\n",
              "        [211, 169, 181],\n",
              "        [210, 168, 180],\n",
              "        [210, 168, 180]],\n",
              "\n",
              "       [[144, 119, 138],\n",
              "        [143, 118, 137],\n",
              "        [143, 118, 137],\n",
              "        ...,\n",
              "        [211, 168, 185],\n",
              "        [211, 168, 185],\n",
              "        [210, 167, 184]],\n",
              "\n",
              "       [[143, 120, 140],\n",
              "        [142, 119, 139],\n",
              "        [141, 118, 138],\n",
              "        ...,\n",
              "        [211, 170, 186],\n",
              "        [211, 168, 185],\n",
              "        [210, 167, 184]]], dtype=uint8)"
            ]
          },
          "metadata": {},
          "execution_count": 12
        }
      ],
      "source": [
        "plt.imread('/content/gdrive/MyDrive/Colab Notebooks/Skin cancer ISIC The International Skin Imaging Collaboration/Train/melanoma/ISIC_0000139.jpg')"
      ]
    },
    {
      "cell_type": "code",
      "execution_count": 12,
      "metadata": {
        "id": "xHTbTUBKP-TU"
      },
      "outputs": [],
      "source": [
        ""
      ]
    },
    {
      "cell_type": "code",
      "execution_count": 13,
      "metadata": {
        "id": "5v4HU_17NwCS"
      },
      "outputs": [],
      "source": [
        " AUTOTUNE = tf.data.experimental.AUTOTUNE\n",
        "train_ds = train_ds.cache().shuffle(1000).prefetch(buffer_size=AUTOTUNE)\n",
        "val_ds = val_ds.cache().prefetch(buffer_size=AUTOTUNE)"
      ]
    },
    {
      "cell_type": "markdown",
      "metadata": {
        "id": "yARzVT7lSSYP"
      },
      "source": [
        "**Create the model**"
      ]
    },
    {
      "cell_type": "code",
      "execution_count": 14,
      "metadata": {
        "id": "XEpRY8tDSvPC"
      },
      "outputs": [],
      "source": [
        "from tensorflow import keras\n",
        "from tensorflow.keras import layers\n",
        "from tensorflow.keras.models import Sequential"
      ]
    },
    {
      "cell_type": "code",
      "execution_count": 15,
      "metadata": {
        "id": "C84peKAoOcf5"
      },
      "outputs": [],
      "source": [
        "normalization_layer = layers.Rescaling(1./255)"
      ]
    },
    {
      "cell_type": "code",
      "execution_count": 16,
      "metadata": {
        "colab": {
          "base_uri": "https://localhost:8080/"
        },
        "id": "yjxBE9gxSWdv",
        "outputId": "65c227f1-6e78-4a95-95e1-ca83cee7e8b0"
      },
      "outputs": [
        {
          "output_type": "stream",
          "name": "stdout",
          "text": [
            "0.21207549 0.70684093\n"
          ]
        }
      ],
      "source": [
        "normalized_ds = train_ds.map(lambda x, y: (normalization_layer(x), y))\n",
        "image_batch, labels_batch = next(iter(normalized_ds))\n",
        "first_image = image_batch[0]\n",
        "# Notice the pixel values are now in `[0,1]`.\n",
        "print(np.min(first_image), np.max(first_image))"
      ]
    },
    {
      "cell_type": "code",
      "execution_count": 17,
      "metadata": {
        "id": "XWkyQzXhUtuP"
      },
      "outputs": [],
      "source": [
        "num_classes = 9\n",
        "\n",
        "model = Sequential([\n",
        "  layers.Rescaling(1./255, input_shape=(img_height, img_width, 3)),\n",
        "  layers.Conv2D(16, 3, padding='same', activation='relu'),\n",
        "  layers.MaxPooling2D(),\n",
        "  layers.Conv2D(32, 3, padding='same', activation='relu'),\n",
        "  layers.MaxPooling2D(),\n",
        "  layers.Conv2D(64, 3, padding='same', activation='relu'),\n",
        "  layers.MaxPooling2D(),\n",
        "  layers.Flatten(),\n",
        "  layers.Dense(128, activation='relu'),\n",
        "  layers.Dense(num_classes)\n",
        "])\n"
      ]
    },
    {
      "cell_type": "markdown",
      "metadata": {
        "id": "yQTHT-JAU0U-"
      },
      "source": [
        "**Compile the model**\n",
        "\n",
        "Choose an appropirate optimiser and loss function for model training"
      ]
    },
    {
      "cell_type": "code",
      "execution_count": 18,
      "metadata": {
        "id": "Sjo4r2UqUtrO"
      },
      "outputs": [],
      "source": [
        "model.compile(optimizer='adam',\n",
        "              loss=tf.keras.losses.SparseCategoricalCrossentropy(from_logits=True),\n",
        "              metrics=['accuracy'])"
      ]
    },
    {
      "cell_type": "code",
      "execution_count": 19,
      "metadata": {
        "colab": {
          "base_uri": "https://localhost:8080/"
        },
        "id": "hMUP_IwGUtnq",
        "outputId": "00bc5016-1387-4bbb-aa66-e0b1b759ed7a"
      },
      "outputs": [
        {
          "output_type": "stream",
          "name": "stdout",
          "text": [
            "Model: \"sequential\"\n",
            "_________________________________________________________________\n",
            " Layer (type)                Output Shape              Param #   \n",
            "=================================================================\n",
            " rescaling_1 (Rescaling)     (None, 180, 180, 3)       0         \n",
            "                                                                 \n",
            " conv2d (Conv2D)             (None, 180, 180, 16)      448       \n",
            "                                                                 \n",
            " max_pooling2d (MaxPooling2D  (None, 90, 90, 16)       0         \n",
            " )                                                               \n",
            "                                                                 \n",
            " conv2d_1 (Conv2D)           (None, 90, 90, 32)        4640      \n",
            "                                                                 \n",
            " max_pooling2d_1 (MaxPooling  (None, 45, 45, 32)       0         \n",
            " 2D)                                                             \n",
            "                                                                 \n",
            " conv2d_2 (Conv2D)           (None, 45, 45, 64)        18496     \n",
            "                                                                 \n",
            " max_pooling2d_2 (MaxPooling  (None, 22, 22, 64)       0         \n",
            " 2D)                                                             \n",
            "                                                                 \n",
            " flatten (Flatten)           (None, 30976)             0         \n",
            "                                                                 \n",
            " dense (Dense)               (None, 128)               3965056   \n",
            "                                                                 \n",
            " dense_1 (Dense)             (None, 9)                 1161      \n",
            "                                                                 \n",
            "=================================================================\n",
            "Total params: 3,989,801\n",
            "Trainable params: 3,989,801\n",
            "Non-trainable params: 0\n",
            "_________________________________________________________________\n"
          ]
        }
      ],
      "source": [
        "# View the summary of all layers\n",
        "model.summary()"
      ]
    },
    {
      "cell_type": "markdown",
      "metadata": {
        "id": "A696fEihVEua"
      },
      "source": [
        "**Train the model**"
      ]
    },
    {
      "cell_type": "code",
      "execution_count": 20,
      "metadata": {
        "colab": {
          "base_uri": "https://localhost:8080/"
        },
        "id": "7bsMTYMOUtkD",
        "outputId": "27a1089a-4b16-4701-c026-ede1df814fca"
      },
      "outputs": [
        {
          "output_type": "stream",
          "name": "stdout",
          "text": [
            "Epoch 1/20\n",
            "281/281 [==============================] - 285s 1s/step - loss: 1.7165 - accuracy: 0.3462 - val_loss: 2.3424 - val_accuracy: 0.3600\n",
            "Epoch 2/20\n",
            "281/281 [==============================] - 284s 1s/step - loss: 1.2256 - accuracy: 0.5437 - val_loss: 3.0597 - val_accuracy: 0.4000\n",
            "Epoch 3/20\n",
            "281/281 [==============================] - 287s 1s/step - loss: 0.9496 - accuracy: 0.6498 - val_loss: 3.3125 - val_accuracy: 0.2800\n",
            "Epoch 4/20\n",
            "281/281 [==============================] - 274s 976ms/step - loss: 0.6841 - accuracy: 0.7583 - val_loss: 4.4415 - val_accuracy: 0.3600\n",
            "Epoch 5/20\n",
            "281/281 [==============================] - 275s 979ms/step - loss: 0.5019 - accuracy: 0.8247 - val_loss: 3.8161 - val_accuracy: 0.5600\n",
            "Epoch 6/20\n",
            "281/281 [==============================] - 274s 976ms/step - loss: 0.3793 - accuracy: 0.8679 - val_loss: 3.6556 - val_accuracy: 0.4000\n",
            "Epoch 7/20\n",
            "281/281 [==============================] - 272s 970ms/step - loss: 0.3191 - accuracy: 0.8923 - val_loss: 4.9092 - val_accuracy: 0.4000\n",
            "Epoch 8/20\n",
            "281/281 [==============================] - 271s 966ms/step - loss: 0.2612 - accuracy: 0.9108 - val_loss: 4.3295 - val_accuracy: 0.3200\n",
            "Epoch 9/20\n",
            "281/281 [==============================] - 278s 988ms/step - loss: 0.1901 - accuracy: 0.9306 - val_loss: 5.7712 - val_accuracy: 0.4000\n",
            "Epoch 10/20\n",
            "281/281 [==============================] - 274s 976ms/step - loss: 0.1852 - accuracy: 0.9306 - val_loss: 6.1901 - val_accuracy: 0.4000\n",
            "Epoch 11/20\n",
            "281/281 [==============================] - 284s 1s/step - loss: 0.1767 - accuracy: 0.9376 - val_loss: 6.6781 - val_accuracy: 0.3200\n",
            "Epoch 12/20\n",
            "281/281 [==============================] - 274s 974ms/step - loss: 0.1474 - accuracy: 0.9452 - val_loss: 7.0030 - val_accuracy: 0.2800\n",
            "Epoch 13/20\n",
            "281/281 [==============================] - 273s 971ms/step - loss: 0.1631 - accuracy: 0.9382 - val_loss: 6.3251 - val_accuracy: 0.3200\n",
            "Epoch 14/20\n",
            "281/281 [==============================] - 278s 991ms/step - loss: 0.1978 - accuracy: 0.9263 - val_loss: 6.3836 - val_accuracy: 0.4400\n",
            "Epoch 15/20\n",
            "281/281 [==============================] - 275s 978ms/step - loss: 0.1379 - accuracy: 0.9476 - val_loss: 8.9176 - val_accuracy: 0.2400\n",
            "Epoch 16/20\n",
            "281/281 [==============================] - 279s 994ms/step - loss: 0.1355 - accuracy: 0.9483 - val_loss: 7.6478 - val_accuracy: 0.2800\n",
            "Epoch 17/20\n",
            "281/281 [==============================] - 272s 968ms/step - loss: 0.1117 - accuracy: 0.9542 - val_loss: 6.3390 - val_accuracy: 0.2800\n",
            "Epoch 18/20\n",
            "281/281 [==============================] - 272s 968ms/step - loss: 0.0997 - accuracy: 0.9576 - val_loss: 7.1788 - val_accuracy: 0.3600\n",
            "Epoch 19/20\n",
            "281/281 [==============================] - 273s 972ms/step - loss: 0.0970 - accuracy: 0.9587 - val_loss: 7.3892 - val_accuracy: 0.3200\n",
            "Epoch 20/20\n",
            "281/281 [==============================] - 276s 982ms/step - loss: 0.2143 - accuracy: 0.9252 - val_loss: 5.6486 - val_accuracy: 0.2800\n"
          ]
        }
      ],
      "source": [
        "epochs= 20\n",
        "history = model.fit(\n",
        "  train_ds,\n",
        "  validation_data=val_ds,\n",
        "  epochs=epochs\n",
        ") "
      ]
    },
    {
      "cell_type": "code",
      "execution_count": 21,
      "metadata": {
        "id": "lzLQVbKhUtga",
        "colab": {
          "base_uri": "https://localhost:8080/",
          "height": 499
        },
        "outputId": "a54d382a-4032-42aa-fb02-56c4b5164882"
      },
      "outputs": [
        {
          "output_type": "display_data",
          "data": {
            "text/plain": [
              "<Figure size 576x576 with 2 Axes>"
            ],
            "image/png": "[encoded data removed]"
          },
          "metadata": {
            "needs_background": "light"
          }
        }
      ],
      "source": [
        "acc = history.history['accuracy']\n",
        "val_acc = history.history['val_accuracy']\n",
        "\n",
        "loss = history.history['loss']\n",
        "val_loss = history.history['val_loss']\n",
        "\n",
        "epochs_range = range(epochs)\n",
        "\n",
        "plt.figure(figsize=(8, 8))\n",
        "plt.subplot(1, 2, 1)\n",
        "plt.plot(epochs_range, acc, label='Training Accuracy')\n",
        "plt.plot(epochs_range, val_acc, label='Validation Accuracy')\n",
        "plt.legend(loc='lower right')\n",
        "plt.title('Training and Validation Accuracy')\n",
        "\n",
        "plt.subplot(1, 2, 2)\n",
        "plt.plot(epochs_range, loss, label='Training Loss')\n",
        "plt.plot(epochs_range, val_loss, label='Validation Loss')\n",
        "plt.legend(loc='upper right')\n",
        "plt.title('Training and Validation Loss')\n",
        "plt.show()"
      ]
    },
    {
      "cell_type": "markdown",
      "metadata": {
        "id": "8CnGfQrZIPgK"
      },
      "source": [
        "Clearly we can say Model is overfit \n",
        "thats why we do augmantation"
      ]
    },
    {
      "cell_type": "code",
      "execution_count": 22,
      "metadata": {
        "id": "gdGCgQdmIe8O",
        "colab": {
          "base_uri": "https://localhost:8080/"
        },
        "outputId": "244b5c6b-a376-457f-ec57-7f94e23dba6f"
      },
      "outputs": [
        {
          "output_type": "stream",
          "name": "stdout",
          "text": [
            "Looking in indexes: https://pypi.org/simple, https://us-python.pkg.dev/colab-wheels/public/simple/\n",
            "Collecting Augmentor\n",
            "  Downloading Augmentor-0.2.10-py2.py3-none-any.whl (38 kB)\n",
            "Requirement already satisfied: Pillow>=5.2.0 in /usr/local/lib/python3.7/dist-packages (from Augmentor) (7.1.2)\n",
            "Requirement already satisfied: tqdm>=4.9.0 in /usr/local/lib/python3.7/dist-packages (from Augmentor) (4.64.0)\n",
            "Requirement already satisfied: numpy>=1.11.0 in /usr/local/lib/python3.7/dist-packages (from Augmentor) (1.21.6)\n",
            "Requirement already satisfied: future>=0.16.0 in /usr/local/lib/python3.7/dist-packages (from Augmentor) (0.16.0)\n",
            "Installing collected packages: Augmentor\n",
            "Successfully installed Augmentor-0.2.10\n"
          ]
        }
      ],
      "source": [
        "!pip install Augmentor"
      ]
    },
    {
      "cell_type": "code",
      "execution_count": 23,
      "metadata": {
        "id": "UmAr2tlGUtc7",
        "colab": {
          "base_uri": "https://localhost:8080/"
        },
        "outputId": "b10644a3-8a72-46c3-d4a0-4bf5b7194b6f"
      },
      "outputs": [
        {
          "output_type": "stream",
          "name": "stdout",
          "text": [
            "Initialised with 114 image(s) found.\n",
            "Output directory set to /content/gdrive/MyDrive/Colab Notebooks/Skin cancer ISIC The International Skin Imaging Collaboration/Train/actinic keratosis/output."
          ]
        },
        {
          "output_type": "stream",
          "name": "stderr",
          "text": [
            "Processing <PIL.Image.Image image mode=RGB size=600x450 at 0x7FDE71DA4FD0>: 100%|██████████| 500/500 [00:27<00:00, 18.13 Samples/s]\n"
          ]
        },
        {
          "output_type": "stream",
          "name": "stdout",
          "text": [
            "Initialised with 376 image(s) found.\n",
            "Output directory set to /content/gdrive/MyDrive/Colab Notebooks/Skin cancer ISIC The International Skin Imaging Collaboration/Train/basal cell carcinoma/output."
          ]
        },
        {
          "output_type": "stream",
          "name": "stderr",
          "text": [
            "Processing <PIL.Image.Image image mode=RGB size=600x450 at 0x7FDE71E05AD0>: 100%|██████████| 500/500 [00:28<00:00, 17.69 Samples/s]\n"
          ]
        },
        {
          "output_type": "stream",
          "name": "stdout",
          "text": [
            "Initialised with 95 image(s) found.\n",
            "Output directory set to /content/gdrive/MyDrive/Colab Notebooks/Skin cancer ISIC The International Skin Imaging Collaboration/Train/dermatofibroma/output."
          ]
        },
        {
          "output_type": "stream",
          "name": "stderr",
          "text": [
            "Processing <PIL.Image.Image image mode=RGB size=600x450 at 0x7FDE71D9B350>: 100%|██████████| 500/500 [00:23<00:00, 21.15 Samples/s]\n"
          ]
        },
        {
          "output_type": "stream",
          "name": "stdout",
          "text": [
            "Initialised with 438 image(s) found.\n",
            "Output directory set to /content/gdrive/MyDrive/Colab Notebooks/Skin cancer ISIC The International Skin Imaging Collaboration/Train/melanoma/output."
          ]
        },
        {
          "output_type": "stream",
          "name": "stderr",
          "text": [
            "Processing <PIL.Image.Image image mode=RGB size=2048x1536 at 0x7FDE700460D0>: 100%|██████████| 500/500 [01:57<00:00,  4.24 Samples/s]\n"
          ]
        },
        {
          "output_type": "stream",
          "name": "stdout",
          "text": [
            "Initialised with 357 image(s) found.\n",
            "Output directory set to /content/gdrive/MyDrive/Colab Notebooks/Skin cancer ISIC The International Skin Imaging Collaboration/Train/nevus/output."
          ]
        },
        {
          "output_type": "stream",
          "name": "stderr",
          "text": [
            "Processing <PIL.Image.Image image mode=RGB size=767x576 at 0x7FDE70054D10>: 100%|██████████| 500/500 [01:33<00:00,  5.34 Samples/s]\n"
          ]
        },
        {
          "output_type": "stream",
          "name": "stdout",
          "text": [
            "Initialised with 462 image(s) found.\n",
            "Output directory set to /content/gdrive/MyDrive/Colab Notebooks/Skin cancer ISIC The International Skin Imaging Collaboration/Train/pigmented benign keratosis/output."
          ]
        },
        {
          "output_type": "stream",
          "name": "stderr",
          "text": [
            "Processing <PIL.Image.Image image mode=RGB size=600x450 at 0x7FDE7224FD10>: 100%|██████████| 500/500 [00:23<00:00, 21.33 Samples/s]\n"
          ]
        },
        {
          "output_type": "stream",
          "name": "stdout",
          "text": [
            "Initialised with 77 image(s) found.\n",
            "Output directory set to /content/gdrive/MyDrive/Colab Notebooks/Skin cancer ISIC The International Skin Imaging Collaboration/Train/seborrheic keratosis/output."
          ]
        },
        {
          "output_type": "stream",
          "name": "stderr",
          "text": [
            "Processing <PIL.Image.Image image mode=RGB size=1024x768 at 0x7FDE73B9B850>: 100%|██████████| 500/500 [00:55<00:00,  9.08 Samples/s]\n"
          ]
        },
        {
          "output_type": "stream",
          "name": "stdout",
          "text": [
            "Initialised with 181 image(s) found.\n",
            "Output directory set to /content/gdrive/MyDrive/Colab Notebooks/Skin cancer ISIC The International Skin Imaging Collaboration/Train/squamous cell carcinoma/output."
          ]
        },
        {
          "output_type": "stream",
          "name": "stderr",
          "text": [
            "Processing <PIL.Image.Image image mode=RGB size=600x450 at 0x7FDE73AFCED0>: 100%|██████████| 500/500 [00:23<00:00, 21.29 Samples/s]\n"
          ]
        },
        {
          "output_type": "stream",
          "name": "stdout",
          "text": [
            "Initialised with 139 image(s) found.\n",
            "Output directory set to /content/gdrive/MyDrive/Colab Notebooks/Skin cancer ISIC The International Skin Imaging Collaboration/Train/vascular lesion/output."
          ]
        },
        {
          "output_type": "stream",
          "name": "stderr",
          "text": [
            "Processing <PIL.JpegImagePlugin.JpegImageFile image mode=RGB size=600x450 at 0x7FDE73AB8310>: 100%|██████████| 500/500 [00:23<00:00, 20.90 Samples/s]\n"
          ]
        }
      ],
      "source": [
        "path_to_training_dataset=\"/content/gdrive/MyDrive/Colab Notebooks/Skin cancer ISIC The International Skin Imaging Collaboration/Train/\"\n",
        "import Augmentor\n",
        "for i in class_names:\n",
        "    p = Augmentor.Pipeline(path_to_training_dataset + i)\n",
        "    p.rotate(probability=0.7, max_left_rotation=10, max_right_rotation=10)\n",
        "    p.sample(500) "
      ]
    },
    {
      "cell_type": "code",
      "execution_count": 24,
      "metadata": {
        "id": "KjyAvNBmUtY8",
        "colab": {
          "base_uri": "https://localhost:8080/"
        },
        "outputId": "02d0501b-a178-47c6-8277-60d9d7b698c2"
      },
      "outputs": [
        {
          "output_type": "stream",
          "name": "stdout",
          "text": [
            "13500\n"
          ]
        }
      ],
      "source": [
        "image_count_train = len(list(data_dir_train.glob('*/output/*.jpg')))\n",
        "print(image_count_train)"
      ]
    },
    {
      "cell_type": "code",
      "execution_count": 25,
      "metadata": {
        "id": "n_2LbHg8Tse8",
        "colab": {
          "base_uri": "https://localhost:8080/"
        },
        "outputId": "524f58f8-ff2a-45f9-90ae-e245c5c66fad"
      },
      "outputs": [
        {
          "output_type": "execute_result",
          "data": {
            "text/plain": [
              "['/',\n",
              " 'c',\n",
              " 'o',\n",
              " 'n',\n",
              " 't',\n",
              " 'e',\n",
              " 'n',\n",
              " 't',\n",
              " '/',\n",
              " 'g',\n",
              " 'd',\n",
              " 'r',\n",
              " 'i',\n",
              " 'v',\n",
              " 'e',\n",
              " '/',\n",
              " 'M',\n",
              " 'y',\n",
              " 'D',\n",
              " 'r',\n",
              " 'i',\n",
              " 'v',\n",
              " 'e',\n",
              " '/',\n",
              " 'C',\n",
              " 'o',\n",
              " 'l',\n",
              " 'a',\n",
              " 'b',\n",
              " ' ',\n",
              " 'N',\n",
              " 'o',\n",
              " 't',\n",
              " 'e',\n",
              " 'b',\n",
              " 'o',\n",
              " 'o',\n",
              " 'k',\n",
              " 's',\n",
              " '/',\n",
              " 'S',\n",
              " 'k',\n",
              " 'i',\n",
              " 'n',\n",
              " ' ',\n",
              " 'c',\n",
              " 'a',\n",
              " 'n',\n",
              " 'c',\n",
              " 'e',\n",
              " 'r',\n",
              " ' ',\n",
              " 'I',\n",
              " 'S',\n",
              " 'I',\n",
              " 'C',\n",
              " ' ',\n",
              " 'T',\n",
              " 'h',\n",
              " 'e',\n",
              " ' ',\n",
              " 'I',\n",
              " 'n',\n",
              " 't',\n",
              " 'e',\n",
              " 'r',\n",
              " 'n',\n",
              " 'a',\n",
              " 't',\n",
              " 'i',\n",
              " 'o',\n",
              " 'n',\n",
              " 'a',\n",
              " 'l',\n",
              " ' ',\n",
              " 'S',\n",
              " 'k',\n",
              " 'i',\n",
              " 'n',\n",
              " ' ',\n",
              " 'I',\n",
              " 'm',\n",
              " 'a',\n",
              " 'g',\n",
              " 'i',\n",
              " 'n',\n",
              " 'g',\n",
              " ' ',\n",
              " 'C',\n",
              " 'o',\n",
              " 'l',\n",
              " 'l',\n",
              " 'a',\n",
              " 'b',\n",
              " 'o',\n",
              " 'r',\n",
              " 'a',\n",
              " 't',\n",
              " 'i',\n",
              " 'o',\n",
              " 'n',\n",
              " '/',\n",
              " 'T',\n",
              " 'r',\n",
              " 'a',\n",
              " 'i',\n",
              " 'n',\n",
              " '/',\n",
              " '*',\n",
              " '/',\n",
              " 'o',\n",
              " 'u',\n",
              " 't',\n",
              " 'p',\n",
              " 'u',\n",
              " 't',\n",
              " '/',\n",
              " '*',\n",
              " '.',\n",
              " 'j',\n",
              " 'p',\n",
              " 'g']"
            ]
          },
          "metadata": {},
          "execution_count": 25
        }
      ],
      "source": [
        "path_list = [x for x in os.path.join(data_dir_train, '*','output', '*.jpg')]\n",
        "path_list"
      ]
    },
    {
      "cell_type": "code",
      "execution_count": 26,
      "metadata": {
        "id": "eunmNXxxTm5i",
        "colab": {
          "base_uri": "https://localhost:8080/"
        },
        "outputId": "414f5fc5-a252-40c8-970b-3b468f9a2574"
      },
      "outputs": [
        {
          "output_type": "execute_result",
          "data": {
            "text/plain": [
              "['',\n",
              " '',\n",
              " '',\n",
              " '',\n",
              " '',\n",
              " '',\n",
              " '',\n",
              " '',\n",
              " '',\n",
              " '',\n",
              " '',\n",
              " '',\n",
              " '',\n",
              " '',\n",
              " '',\n",
              " '',\n",
              " '',\n",
              " '',\n",
              " '',\n",
              " '',\n",
              " '',\n",
              " '',\n",
              " '',\n",
              " '',\n",
              " '',\n",
              " '',\n",
              " '',\n",
              " '',\n",
              " '',\n",
              " '',\n",
              " '',\n",
              " '',\n",
              " '',\n",
              " '',\n",
              " '',\n",
              " '',\n",
              " '',\n",
              " '',\n",
              " '',\n",
              " '',\n",
              " '',\n",
              " '',\n",
              " '',\n",
              " '',\n",
              " '',\n",
              " '',\n",
              " '',\n",
              " '',\n",
              " '',\n",
              " '',\n",
              " '',\n",
              " '',\n",
              " '',\n",
              " '',\n",
              " '',\n",
              " '',\n",
              " '',\n",
              " '',\n",
              " '',\n",
              " '',\n",
              " '',\n",
              " '',\n",
              " '',\n",
              " '',\n",
              " '',\n",
              " '',\n",
              " '',\n",
              " '',\n",
              " '',\n",
              " '',\n",
              " '',\n",
              " '',\n",
              " '',\n",
              " '',\n",
              " '',\n",
              " '',\n",
              " '',\n",
              " '',\n",
              " '',\n",
              " '',\n",
              " '',\n",
              " '',\n",
              " '',\n",
              " '',\n",
              " '',\n",
              " '',\n",
              " '',\n",
              " '',\n",
              " '',\n",
              " '',\n",
              " '',\n",
              " '',\n",
              " '',\n",
              " '',\n",
              " '',\n",
              " '',\n",
              " '',\n",
              " '',\n",
              " '',\n",
              " '',\n",
              " '',\n",
              " '',\n",
              " '',\n",
              " '',\n",
              " '',\n",
              " '',\n",
              " '',\n",
              " '',\n",
              " '',\n",
              " '',\n",
              " '',\n",
              " '',\n",
              " '',\n",
              " '',\n",
              " '',\n",
              " '',\n",
              " '',\n",
              " '',\n",
              " '',\n",
              " '',\n",
              " '',\n",
              " '']"
            ]
          },
          "metadata": {},
          "execution_count": 26
        }
      ],
      "source": [
        "lesion_list_new = [os.path.basename(os.path.dirname(os.path.dirname(y))) for y in os.path.join(data_dir_train, '*','output', '*.jpg')]\n",
        "lesion_list_new"
      ]
    },
    {
      "cell_type": "code",
      "execution_count": 28,
      "metadata": {
        "id": "ux9X-89kTpzV"
      },
      "outputs": [],
      "source": [
        "dataframe_dict_new = dict(zip(path_list, lesion_list_new))"
      ]
    }
  ],
  "metadata": {
    "accelerator": "TPU",
    "colab": {
      "collapsed_sections": [],
      "name": "cnn assignment.ipynb",
      "provenance": []
    },
    "gpuClass": "standard",
    "kernelspec": {
      "display_name": "Python 3",
      "name": "python3"
    },
    "language_info": {
      "name": "python"
    }
  },
  "nbformat": 4,
  "nbformat_minor": 0
}